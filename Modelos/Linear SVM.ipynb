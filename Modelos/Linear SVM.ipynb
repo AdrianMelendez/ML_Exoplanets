{
 "cells": [
  {
   "cell_type": "code",
   "execution_count": 1,
   "metadata": {},
   "outputs": [],
   "source": [
    "import pandas as pd\n",
    "from sklearn.model_selection import StratifiedKFold, KFold\n",
    "import numpy as np\n",
    "from sklearn.model_selection import cross_validate\n",
    "from sklearn.pipeline import make_pipeline\n",
    "from sklearn.preprocessing import StandardScaler\n",
    "from sklearn.model_selection import GridSearchCV\n",
    "import imblearn\n",
    "from imblearn.pipeline import Pipeline\n",
    "from imblearn.over_sampling import SMOTE\n",
    "from sklearn.metrics import f1_score, precision_score, recall_score, confusion_matrix, fbeta_score, plot_confusion_matrix, roc_auc_score\n",
    "import matplotlib.pyplot as plt\n",
    "import seaborn as sns\n",
    "from imblearn.under_sampling import RandomUnderSampler\n",
    "from sklearn.metrics import make_scorer\n",
    "from sklearn.svm import SVC\n",
    "from sklearn import metrics"
   ]
  },
  {
   "cell_type": "code",
   "execution_count": 2,
   "metadata": {},
   "outputs": [],
   "source": [
    "trainingData = pd.read_csv('Data/TRAIN_ExtractedFeatures&LABEL.csv')\n",
    "X = trainingData.loc[:, trainingData.columns != 'LABEL']\n",
    "y = trainingData['LABEL']"
   ]
  },
  {
   "cell_type": "code",
   "execution_count": 42,
   "metadata": {},
   "outputs": [
    {
     "name": "stdout",
     "output_type": "stream",
     "text": [
      "Recall:\n",
      " Test: 0.8142857142857143 +- 0.10449099170234137\n",
      "Precision:\n",
      "Test: 0.975 +- 0.049999999999999996\n",
      "Puntuación f4:\n",
      " Test: 0.8209914465049805 +- 0.09705238287378337\n"
     ]
    }
   ],
   "source": [
    "#CALCULO DE MEDIA DE LAS METRICAS SOBRE TODAS LAS PARTICIONES CROSS VALIDATION\n",
    "\n",
    "cv = StratifiedKFold(n_splits=5,shuffle=True, random_state=10)\n",
    "scoring = {\"recall\": \"recall\",\"precision\":\"precision\", \"f4\": make_scorer(fbeta_score,beta=4)}\n",
    "\n",
    "#NORMAL TRAINING\n",
    "pipeline = make_pipeline(StandardScaler(), SVC(C=1, kernel='linear'))\n",
    "\n",
    "scores = cross_validate(pipeline, X, y, cv=cv, scoring=scoring)\n",
    "print('Recall:\\n Test:', scores['test_recall'].mean() , '+-', scores['test_recall'].std())\n",
    "print('Precision:\\nTest:', scores['test_precision'].mean(), '+-', scores['test_precision'].std())\n",
    "print('Puntuación f4:\\n Test:', scores['test_f4'].mean(), '+-', scores['test_f4'].std())"
   ]
  },
  {
   "cell_type": "code",
   "execution_count": 17,
   "metadata": {},
   "outputs": [
    {
     "name": "stdout",
     "output_type": "stream",
     "text": [
      "Recall:\n",
      " Test: 0.7392857142857143 +- 0.2075119863761993\n",
      "Precision:\n",
      "Test: 0.6146969696969696 +- 0.04071108083613906\n",
      "Puntuación f4:\n",
      " Test: 0.7272119621996962 +- 0.19477988608214122\n"
     ]
    }
   ],
   "source": [
    "#TRAINING WITH SMOTE\n",
    "model = make_pipeline(StandardScaler(), SVC(C=1, kernel='linear'))\n",
    "over = SMOTE(sampling_strategy=1,random_state=10)\n",
    "steps = [('over', over), ('model', model)]\n",
    "pipeline = Pipeline(steps=steps)\n",
    "\n",
    "scores = cross_validate(pipeline, X, y, cv=cv, scoring=scoring)\n",
    "print('Recall:\\n Test:', scores['test_recall'].mean() , '+-', scores['test_recall'].std())\n",
    "print('Precision:\\nTest:', scores['test_precision'].mean(), '+-', scores['test_precision'].std())\n",
    "print('Puntuación f4:\\n Test:', scores['test_f4'].mean(), '+-', scores['test_f4'].std())"
   ]
  },
  {
   "cell_type": "code",
   "execution_count": 18,
   "metadata": {},
   "outputs": [
    {
     "name": "stdout",
     "output_type": "stream",
     "text": [
      "Recall:\n",
      " Test: 0.7392857142857143 +- 0.2075119863761993\n",
      "Precision:\n",
      "Test: 0.6977777777777778 +- 0.1654996176937884\n",
      "Puntuación f4:\n",
      " Test: 0.7281200340159318 +- 0.19185538554015974\n"
     ]
    }
   ],
   "source": [
    "#TRAINING WITH UNDERSAMPLING + SMOTE USANDO EL VALOR ANTERIOR\n",
    "model = make_pipeline(StandardScaler(), SVC(C=1, kernel='linear'))\n",
    "over = SMOTE(sampling_strategy=1,random_state=10)\n",
    "under = RandomUnderSampler(sampling_strategy=0.01,random_state=10)\n",
    "steps = [('under', under), ('over', over), ('model', model)]\n",
    "pipeline = Pipeline(steps=steps)\n",
    "\n",
    "scores = cross_validate(pipeline, X, y, cv=cv, scoring=scoring)\n",
    "print('Recall:\\n Test:', scores['test_recall'].mean() , '+-', scores['test_recall'].std())\n",
    "print('Precision:\\nTest:', scores['test_precision'].mean(), '+-', scores['test_precision'].std())\n",
    "print('Puntuación f4:\\n Test:', scores['test_f4'].mean(), '+-', scores['test_f4'].std())"
   ]
  },
  {
   "cell_type": "code",
   "execution_count": 54,
   "metadata": {},
   "outputs": [
    {
     "data": {
      "text/html": [
       "<div>\n",
       "<style scoped>\n",
       "    .dataframe tbody tr th:only-of-type {\n",
       "        vertical-align: middle;\n",
       "    }\n",
       "\n",
       "    .dataframe tbody tr th {\n",
       "        vertical-align: top;\n",
       "    }\n",
       "\n",
       "    .dataframe thead th {\n",
       "        text-align: right;\n",
       "    }\n",
       "</style>\n",
       "<table border=\"1\" class=\"dataframe\">\n",
       "  <thead>\n",
       "    <tr style=\"text-align: right;\">\n",
       "      <th></th>\n",
       "      <th>mean_test_recall</th>\n",
       "      <th>std_test_recall</th>\n",
       "      <th>mean_test_precision</th>\n",
       "      <th>std_test_precision</th>\n",
       "      <th>mean_test_f4</th>\n",
       "      <th>std_test_f4</th>\n",
       "      <th>params</th>\n",
       "    </tr>\n",
       "  </thead>\n",
       "  <tbody>\n",
       "    <tr>\n",
       "      <th>0</th>\n",
       "      <td>0.839286</td>\n",
       "      <td>0.101015</td>\n",
       "      <td>0.975000</td>\n",
       "      <td>0.050000</td>\n",
       "      <td>0.845049</td>\n",
       "      <td>0.094112</td>\n",
       "      <td>{'svc__C': 0.2}</td>\n",
       "    </tr>\n",
       "    <tr>\n",
       "      <th>1</th>\n",
       "      <td>0.839286</td>\n",
       "      <td>0.101015</td>\n",
       "      <td>0.975000</td>\n",
       "      <td>0.050000</td>\n",
       "      <td>0.845049</td>\n",
       "      <td>0.094112</td>\n",
       "      <td>{'svc__C': 0.4}</td>\n",
       "    </tr>\n",
       "    <tr>\n",
       "      <th>2</th>\n",
       "      <td>0.814286</td>\n",
       "      <td>0.104491</td>\n",
       "      <td>0.955556</td>\n",
       "      <td>0.088889</td>\n",
       "      <td>0.819352</td>\n",
       "      <td>0.094183</td>\n",
       "      <td>{'svc__C': 0.6000000000000001}</td>\n",
       "    </tr>\n",
       "    <tr>\n",
       "      <th>3</th>\n",
       "      <td>0.814286</td>\n",
       "      <td>0.104491</td>\n",
       "      <td>0.975000</td>\n",
       "      <td>0.050000</td>\n",
       "      <td>0.820991</td>\n",
       "      <td>0.097052</td>\n",
       "      <td>{'svc__C': 0.8}</td>\n",
       "    </tr>\n",
       "    <tr>\n",
       "      <th>4</th>\n",
       "      <td>0.814286</td>\n",
       "      <td>0.104491</td>\n",
       "      <td>0.975000</td>\n",
       "      <td>0.050000</td>\n",
       "      <td>0.820991</td>\n",
       "      <td>0.097052</td>\n",
       "      <td>{'svc__C': 1.0}</td>\n",
       "    </tr>\n",
       "  </tbody>\n",
       "</table>\n",
       "</div>"
      ],
      "text/plain": [
       "   mean_test_recall  std_test_recall  mean_test_precision  std_test_precision  \\\n",
       "0          0.839286         0.101015             0.975000            0.050000   \n",
       "1          0.839286         0.101015             0.975000            0.050000   \n",
       "2          0.814286         0.104491             0.955556            0.088889   \n",
       "3          0.814286         0.104491             0.975000            0.050000   \n",
       "4          0.814286         0.104491             0.975000            0.050000   \n",
       "\n",
       "   mean_test_f4  std_test_f4                          params  \n",
       "0      0.845049     0.094112                 {'svc__C': 0.2}  \n",
       "1      0.845049     0.094112                 {'svc__C': 0.4}  \n",
       "2      0.819352     0.094183  {'svc__C': 0.6000000000000001}  \n",
       "3      0.820991     0.097052                 {'svc__C': 0.8}  \n",
       "4      0.820991     0.097052                 {'svc__C': 1.0}  "
      ]
     },
     "execution_count": 54,
     "metadata": {},
     "output_type": "execute_result"
    }
   ],
   "source": [
    "#USE CROSS VALIDATION TO FIND BEST C\n",
    "pipeline = make_pipeline(StandardScaler(), SVC(C=1, kernel='linear'))\n",
    "cv = StratifiedKFold(n_splits=5,shuffle=True, random_state=10)\n",
    "scoring = {\"recall\": \"recall\",\"precision\":\"precision\", \"f4\": make_scorer(fbeta_score,beta=4)}\n",
    "grid = GridSearchCV(pipeline, param_grid={'svc__C':np.linspace(0.2,1,5)}, \n",
    "                    cv = cv, scoring=scoring,return_train_score=True,refit='f4')\n",
    "\n",
    "fitted = grid.fit(X,y)\n",
    "\n",
    "pd.DataFrame(grid.cv_results_)[['mean_test_recall', 'std_test_recall', 'mean_test_precision', 'std_test_precision',\n",
    "                                'mean_test_f4', 'std_test_f4','params']]"
   ]
  },
  {
   "cell_type": "code",
   "execution_count": 61,
   "metadata": {},
   "outputs": [
    {
     "data": {
      "image/png": "[encoded data removed]",
      "text/plain": [
       "<Figure size 360x360 with 1 Axes>"
      ]
     },
     "metadata": {},
     "output_type": "display_data"
    }
   ],
   "source": [
    "#CONFUSION MATRIX IN TRAINING (en una iteración de la validacion cruzada)\n",
    "\n",
    "clf = make_pipeline(StandardScaler(), SVC( kernel='linear',C=0.2))\n",
    "cv = StratifiedKFold(n_splits=5,shuffle=True, random_state=10)\n",
    "\n",
    "for train_index, test_index in cv.split(X, y):\n",
    "    X_train, y_train = X.iloc[train_index], y.iloc[train_index]\n",
    "    clf.fit(X_train,y_train)\n",
    "    y_test = y.iloc[test_index].array\n",
    "    y_pred = clf.predict(X.iloc[test_index])\n",
    "    break\n",
    "    \n",
    "\n",
    "matrix = confusion_matrix(y_test, y_pred)\n",
    "\n",
    "group_names = ['True Neg','False Pos','False Neg','True Pos']\n",
    "\n",
    "group_counts = [\"{0:0.0f}\".format(value) for value in\n",
    "                matrix.flatten()]\n",
    "\n",
    "labels = [f\"{v1}\\n{v2}\" for v1, v2 in\n",
    "          zip(group_names,group_counts)]\n",
    "\n",
    "labels = np.asarray(labels).reshape(2,2)\n",
    "\n",
    "sns.set(rc={'figure.figsize':(5,5)})\n",
    "sns.set(font_scale = 2)\n",
    "ax = sns.heatmap(matrix, annot=labels, fmt='', cmap='turbo',cbar=False, annot_kws={\"size\": 20})\n",
    "\n",
    "ax.set_title('SVM Lineal\\n')\n",
    "ax.set_xlabel('\\nValores predichos',fontsize=25)\n",
    "ax.set_ylabel('Valores reales\\n',fontsize=25)\n",
    "sns.set(font_scale=10)\n",
    "\n",
    "ax.figure.savefig('CM Training/CM_SVM_Linear.png', dpi=1000, bbox_inches=\"tight\")\n"
   ]
  },
  {
   "cell_type": "code",
   "execution_count": 49,
   "metadata": {
    "scrolled": true
   },
   "outputs": [
    {
     "name": "stdout",
     "output_type": "stream",
     "text": [
      "Recall:\n",
      " Test: 0.8392857142857142 +- 0.10101525445522107\n",
      "Precision:\n",
      "Test: 0.975 +- 0.049999999999999996\n",
      "Puntuación f4:\n",
      " Test: 0.8450489368311276 +- 0.09411198031746237\n"
     ]
    }
   ],
   "source": [
    "clf = fitted.best_estimator_\n",
    "scores = cross_validate(clf, X, y, cv=cv, scoring=scoring)\n",
    "print('Recall:\\n Test:', scores['test_recall'].mean() , '+-', scores['test_recall'].std())\n",
    "print('Precision:\\nTest:', scores['test_precision'].mean(), '+-', scores['test_precision'].std())\n",
    "print('Puntuación f4:\\n Test:', scores['test_f4'].mean(), '+-', scores['test_f4'].std())"
   ]
  },
  {
   "cell_type": "code",
   "execution_count": 57,
   "metadata": {},
   "outputs": [
    {
     "name": "stdout",
     "output_type": "stream",
     "text": [
      "precision: 1.0\n",
      "recall: 0.6\n",
      "f4: 0.6144578313253011\n",
      "PR AUC: 0.6039013617322935\n"
     ]
    }
   ],
   "source": [
    "#PRUEBA EN EL CONJUNTO DE TEST\n",
    "testData = pd.read_csv('Data/TEST_ExtractedFeatures&LABEL.csv')\n",
    "X_test = testData.loc[:, testData.columns != 'LABEL']\n",
    "y_test = testData['LABEL']\n",
    "from sklearn.metrics import precision_recall_curve, auc\n",
    "\n",
    "clf = fitted.best_estimator_\n",
    "y_pred = clf.predict(X_test)\n",
    "print('precision:',precision_score(y_test, y_pred, average='binary')) # TP / (TP + FP)\n",
    "print('recall:',recall_score(y_test, y_pred, average='binary')) # TP / (TP + FN)\n",
    "print('f4:',fbeta_score(y_test, y_pred, beta=4, average=\"binary\"))\n",
    "precision, recall, _  = precision_recall_curve(y_test, clf.decision_function(X_test))\n",
    "print('PR AUC:',auc(recall, precision))"
   ]
  },
  {
   "cell_type": "code",
   "execution_count": 59,
   "metadata": {},
   "outputs": [
    {
     "data": {
      "image/png": "[encoded data removed]",
      "text/plain": [
       "<Figure size 360x360 with 1 Axes>"
      ]
     },
     "metadata": {},
     "output_type": "display_data"
    }
   ],
   "source": [
    "#CONFUSION MATRIX\n",
    "matrix = confusion_matrix(y_test, y_pred)\n",
    "\n",
    "group_names = ['True Neg','False Pos','False Neg','True Pos']\n",
    "\n",
    "group_counts = [\"{0:0.0f}\".format(value) for value in\n",
    "                matrix.flatten()]\n",
    "\n",
    "labels = [f\"{v1}\\n{v2}\" for v1, v2 in\n",
    "          zip(group_names,group_counts)]\n",
    "\n",
    "labels = np.asarray(labels).reshape(2,2)\n",
    "\n",
    "sns.set(rc={'figure.figsize':(5,5)})\n",
    "sns.set(font_scale = 2)\n",
    "ax = sns.heatmap(matrix, annot=labels, fmt='', cmap='turbo',cbar=False, annot_kws={\"size\": 20})\n",
    "\n",
    "ax.set_title('SVM Lineal\\n')\n",
    "ax.set_xlabel('\\nValores predichos',fontsize=25)\n",
    "ax.set_ylabel('Valores reales\\n',fontsize=25)\n",
    "sns.set(font_scale=10)\n",
    "\n",
    "ax.figure.savefig('CM Test/CM_SVM_Linear.png', dpi=1000, bbox_inches=\"tight\")"
   ]
  }
 ],
 "metadata": {
  "kernelspec": {
   "display_name": "Python 3",
   "language": "python",
   "name": "python3"
  },
  "language_info": {
   "codemirror_mode": {
    "name": "ipython",
    "version": 3
   },
   "file_extension": ".py",
   "mimetype": "text/x-python",
   "name": "python",
   "nbconvert_exporter": "python",
   "pygments_lexer": "ipython3",
   "version": "3.6.9"
  }
 },
 "nbformat": 4,
 "nbformat_minor": 4
}
