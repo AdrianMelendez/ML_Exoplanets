{
 "cells": [
  {
   "cell_type": "code",
   "execution_count": 1,
   "metadata": {},
   "outputs": [],
   "source": [
    "import pandas as pd\n",
    "from sklearn.model_selection import StratifiedKFold, KFold\n",
    "import numpy as np\n",
    "from sklearn.model_selection import cross_validate\n",
    "from sklearn.pipeline import make_pipeline\n",
    "from sklearn.preprocessing import StandardScaler\n",
    "from sklearn.model_selection import GridSearchCV\n",
    "import imblearn\n",
    "from imblearn.pipeline import Pipeline\n",
    "from imblearn.over_sampling import SMOTE\n",
    "from sklearn.metrics import f1_score, precision_score, recall_score, confusion_matrix, fbeta_score, plot_confusion_matrix, roc_auc_score\n",
    "import matplotlib.pyplot as plt\n",
    "import seaborn as sns\n",
    "from imblearn.under_sampling import RandomUnderSampler\n",
    "from sklearn.metrics import make_scorer\n",
    "from sklearn.svm import SVC\n",
    "from sklearn import metrics"
   ]
  },
  {
   "cell_type": "code",
   "execution_count": 2,
   "metadata": {},
   "outputs": [],
   "source": [
    "trainingData = pd.read_csv('Data/TRAIN_ExtractedFeatures&LABEL.csv')\n",
    "X = trainingData.loc[:, trainingData.columns != 'LABEL']\n",
    "y = trainingData['LABEL']"
   ]
  },
  {
   "cell_type": "code",
   "execution_count": 10,
   "metadata": {},
   "outputs": [
    {
     "name": "stdout",
     "output_type": "stream",
     "text": [
      "Recall:\n",
      " Test: 0.6464285714285715 +- 0.11649647450214351\n",
      "Precision:\n",
      "Test: 0.23094132389798022 +- 0.06289672071684904\n",
      "Puntuación f4:\n",
      " Test: 0.5803080563628452 +- 0.10210722118854261\n"
     ]
    }
   ],
   "source": [
    "#CALCULO DE MEDIA DE LAS METRICAS SOBRE TODAS LAS PARTICIONES CROSS VALIDATION\n",
    "\n",
    "cv = StratifiedKFold(n_splits=5,shuffle=True, random_state=10)\n",
    "scoring = {\"recall\": \"recall\",\"precision\":\"precision\", \"f4\": make_scorer(fbeta_score,beta=4)}\n",
    "\n",
    "#NORMAL TRAINING\n",
    "pipeline = make_pipeline(StandardScaler(), SVC(C=1, kernel='rbf',class_weight='balanced')) \n",
    "#class_weight='balanced' porque si no el desequilbirio impide calcular correctamente las métricas\n",
    "\n",
    "scores = cross_validate(pipeline, X, y, cv=cv, scoring=scoring)\n",
    "print('Recall:\\n Test:', scores['test_recall'].mean() , '+-', scores['test_recall'].std())\n",
    "print('Precision:\\nTest:', scores['test_precision'].mean(), '+-', scores['test_precision'].std())\n",
    "print('Puntuación f4:\\n Test:', scores['test_f4'].mean(), '+-', scores['test_f4'].std())"
   ]
  },
  {
   "cell_type": "code",
   "execution_count": 13,
   "metadata": {},
   "outputs": [
    {
     "name": "stdout",
     "output_type": "stream",
     "text": [
      "Recall:\n",
      " Test: 0.7035714285714285 +- 0.09948848769417228\n",
      "Precision:\n",
      "Test: 0.44718614718614713 +- 0.11623729306926128\n",
      "Puntuación f4:\n",
      " Test: 0.6771183794787257 +- 0.09318622678700948\n"
     ]
    }
   ],
   "source": [
    "#TRAINING WITH SMOTE\n",
    "model = make_pipeline(StandardScaler(), SVC(C=1, kernel='rbf'))\n",
    "over = SMOTE(sampling_strategy=1,random_state=10)\n",
    "steps = [('over', over), ('model', model)]\n",
    "pipeline = Pipeline(steps=steps)\n",
    "\n",
    "scores = cross_validate(pipeline, X, y, cv=cv, scoring=scoring)\n",
    "print('Recall:\\n Test:', scores['test_recall'].mean() , '+-', scores['test_recall'].std())\n",
    "print('Precision:\\nTest:', scores['test_precision'].mean(), '+-', scores['test_precision'].std())\n",
    "print('Puntuación f4:\\n Test:', scores['test_f4'].mean(), '+-', scores['test_f4'].std())"
   ]
  },
  {
   "cell_type": "code",
   "execution_count": 17,
   "metadata": {},
   "outputs": [
    {
     "name": "stdout",
     "output_type": "stream",
     "text": [
      "Recall:\n",
      " Test: 0.675 +- 0.06624013211068362\n",
      "Precision:\n",
      "Test: 0.3712717622934341 +- 0.09257447546442475\n",
      "Puntuación f4:\n",
      " Test: 0.6397969433862565 +- 0.05891192549851954\n"
     ]
    }
   ],
   "source": [
    "#TRAINING WITH UNDERSAMPLING + SMOTE USANDO EL VALOR ANTERIOR\n",
    "model = make_pipeline(StandardScaler(), SVC(C=1, kernel='rbf'))\n",
    "over = SMOTE(sampling_strategy=1,random_state=10)\n",
    "under = RandomUnderSampler(sampling_strategy=0.01,random_state=10)\n",
    "steps = [('under', under), ('over', over), ('model', model)]\n",
    "pipeline = Pipeline(steps=steps)\n",
    "\n",
    "scores = cross_validate(pipeline, X, y, cv=cv, scoring=scoring)\n",
    "print('Recall:\\n Test:', scores['test_recall'].mean() , '+-', scores['test_recall'].std())\n",
    "print('Precision:\\nTest:', scores['test_precision'].mean(), '+-', scores['test_precision'].std())\n",
    "print('Puntuación f4:\\n Test:', scores['test_f4'].mean(), '+-', scores['test_f4'].std())"
   ]
  },
  {
   "cell_type": "code",
   "execution_count": 21,
   "metadata": {},
   "outputs": [
    {
     "data": {
      "text/html": [
       "<div>\n",
       "<style scoped>\n",
       "    .dataframe tbody tr th:only-of-type {\n",
       "        vertical-align: middle;\n",
       "    }\n",
       "\n",
       "    .dataframe tbody tr th {\n",
       "        vertical-align: top;\n",
       "    }\n",
       "\n",
       "    .dataframe thead th {\n",
       "        text-align: right;\n",
       "    }\n",
       "</style>\n",
       "<table border=\"1\" class=\"dataframe\">\n",
       "  <thead>\n",
       "    <tr style=\"text-align: right;\">\n",
       "      <th></th>\n",
       "      <th>mean_test_recall</th>\n",
       "      <th>std_test_recall</th>\n",
       "      <th>mean_test_precision</th>\n",
       "      <th>std_test_precision</th>\n",
       "      <th>mean_test_f4</th>\n",
       "      <th>std_test_f4</th>\n",
       "      <th>params</th>\n",
       "    </tr>\n",
       "  </thead>\n",
       "  <tbody>\n",
       "    <tr>\n",
       "      <th>0</th>\n",
       "      <td>0.675000</td>\n",
       "      <td>0.066240</td>\n",
       "      <td>0.257773</td>\n",
       "      <td>0.040842</td>\n",
       "      <td>0.613022</td>\n",
       "      <td>0.048303</td>\n",
       "      <td>{'model__svc__C': 0.4}</td>\n",
       "    </tr>\n",
       "    <tr>\n",
       "      <th>1</th>\n",
       "      <td>0.703571</td>\n",
       "      <td>0.099488</td>\n",
       "      <td>0.342462</td>\n",
       "      <td>0.071785</td>\n",
       "      <td>0.659224</td>\n",
       "      <td>0.087877</td>\n",
       "      <td>{'model__svc__C': 0.6}</td>\n",
       "    </tr>\n",
       "    <tr>\n",
       "      <th>2</th>\n",
       "      <td>0.703571</td>\n",
       "      <td>0.099488</td>\n",
       "      <td>0.392187</td>\n",
       "      <td>0.094937</td>\n",
       "      <td>0.668242</td>\n",
       "      <td>0.088743</td>\n",
       "      <td>{'model__svc__C': 0.8}</td>\n",
       "    </tr>\n",
       "    <tr>\n",
       "      <th>3</th>\n",
       "      <td>0.703571</td>\n",
       "      <td>0.099488</td>\n",
       "      <td>0.447186</td>\n",
       "      <td>0.116237</td>\n",
       "      <td>0.677118</td>\n",
       "      <td>0.093186</td>\n",
       "      <td>{'model__svc__C': 1.0}</td>\n",
       "    </tr>\n",
       "    <tr>\n",
       "      <th>4</th>\n",
       "      <td>0.650000</td>\n",
       "      <td>0.160357</td>\n",
       "      <td>0.493074</td>\n",
       "      <td>0.131422</td>\n",
       "      <td>0.636188</td>\n",
       "      <td>0.155528</td>\n",
       "      <td>{'model__svc__C': 1.2}</td>\n",
       "    </tr>\n",
       "  </tbody>\n",
       "</table>\n",
       "</div>"
      ],
      "text/plain": [
       "   mean_test_recall  std_test_recall  mean_test_precision  std_test_precision  \\\n",
       "0          0.675000         0.066240             0.257773            0.040842   \n",
       "1          0.703571         0.099488             0.342462            0.071785   \n",
       "2          0.703571         0.099488             0.392187            0.094937   \n",
       "3          0.703571         0.099488             0.447186            0.116237   \n",
       "4          0.650000         0.160357             0.493074            0.131422   \n",
       "\n",
       "   mean_test_f4  std_test_f4                  params  \n",
       "0      0.613022     0.048303  {'model__svc__C': 0.4}  \n",
       "1      0.659224     0.087877  {'model__svc__C': 0.6}  \n",
       "2      0.668242     0.088743  {'model__svc__C': 0.8}  \n",
       "3      0.677118     0.093186  {'model__svc__C': 1.0}  \n",
       "4      0.636188     0.155528  {'model__svc__C': 1.2}  "
      ]
     },
     "execution_count": 21,
     "metadata": {},
     "output_type": "execute_result"
    }
   ],
   "source": [
    "#USE CROSS VALIDATION TO FIND BEST C\n",
    "model = make_pipeline(StandardScaler(), SVC(C=1, kernel='rbf'))\n",
    "over = SMOTE(sampling_strategy=1,random_state=10)\n",
    "steps = [('over', over), ('model', model)]\n",
    "pipeline = Pipeline(steps=steps)\n",
    "cv = StratifiedKFold(n_splits=5,shuffle=True, random_state=10)\n",
    "scoring = {\"recall\": \"recall\",\"precision\":\"precision\", \"f4\": make_scorer(fbeta_score,beta=4)}\n",
    "grid = GridSearchCV(pipeline, param_grid={'model__svc__C':np.linspace(0.4,1.2,5)}, \n",
    "                    cv = cv, scoring=scoring,return_train_score=True,refit='f4')\n",
    "\n",
    "fitted = grid.fit(X,y)\n",
    "\n",
    "pd.DataFrame(grid.cv_results_)[['mean_test_recall', 'std_test_recall', 'mean_test_precision', 'std_test_precision',\n",
    "                                'mean_test_f4', 'std_test_f4','params']]"
   ]
  },
  {
   "cell_type": "code",
   "execution_count": 26,
   "metadata": {},
   "outputs": [
    {
     "data": {
      "image/png": "[encoded data removed]",
      "text/plain": [
       "<Figure size 360x360 with 1 Axes>"
      ]
     },
     "metadata": {},
     "output_type": "display_data"
    }
   ],
   "source": [
    "#CONFUSION MATRIX IN TRAINING (en una iteración de la validacion cruzada)\n",
    "\n",
    "model = make_pipeline(StandardScaler(), SVC(C=1, kernel='rbf'))\n",
    "over = SMOTE(sampling_strategy=1,random_state=10)\n",
    "steps = [('over', over), ('model', model)]\n",
    "clf = Pipeline(steps=steps)\n",
    "cv = StratifiedKFold(n_splits=5,shuffle=True, random_state=10)\n",
    "\n",
    "for train_index, test_index in cv.split(X, y):\n",
    "    X_train, y_train = X.iloc[train_index], y.iloc[train_index]\n",
    "    clf.fit(X_train,y_train)\n",
    "    y_test = y.iloc[test_index].array\n",
    "    y_pred = clf.predict(X.iloc[test_index])\n",
    "    break\n",
    "    \n",
    "\n",
    "matrix = confusion_matrix(y_test, y_pred)\n",
    "\n",
    "group_names = ['True Neg','False Pos','False Neg','True Pos']\n",
    "\n",
    "group_counts = [\"{0:0.0f}\".format(value) for value in\n",
    "                matrix.flatten()]\n",
    "\n",
    "labels = [f\"{v1}\\n{v2}\" for v1, v2 in\n",
    "          zip(group_names,group_counts)]\n",
    "\n",
    "labels = np.asarray(labels).reshape(2,2)\n",
    "\n",
    "sns.set(rc={'figure.figsize':(5,5)})\n",
    "sns.set(font_scale = 2)\n",
    "ax = sns.heatmap(matrix, annot=labels, fmt='', cmap='turbo',cbar=False, annot_kws={\"size\": 20})\n",
    "\n",
    "ax.set_title('SVM rbf\\n')\n",
    "ax.set_xlabel('\\nValores predichos',fontsize=25)\n",
    "ax.set_ylabel('Valores reales\\n',fontsize=25)\n",
    "sns.set(font_scale=10)\n",
    "\n",
    "ax.figure.savefig('CM Training/CM_SVM_RBF.png', dpi=1000, bbox_inches=\"tight\")"
   ]
  },
  {
   "cell_type": "code",
   "execution_count": 25,
   "metadata": {},
   "outputs": [
    {
     "name": "stdout",
     "output_type": "stream",
     "text": [
      "Recall:\n",
      " Test: 0.7035714285714285 +- 0.09948848769417228\n",
      "Precision:\n",
      "Test: 0.44718614718614713 +- 0.11623729306926128\n",
      "Puntuación f4:\n",
      " Test: 0.6771183794787257 +- 0.09318622678700948\n"
     ]
    }
   ],
   "source": [
    "clf = fitted.best_estimator_\n",
    "scores = cross_validate(clf, X, y, cv=cv, scoring=scoring)\n",
    "print('Recall:\\n Test:', scores['test_recall'].mean() , '+-', scores['test_recall'].std())\n",
    "print('Precision:\\nTest:', scores['test_precision'].mean(), '+-', scores['test_precision'].std())\n",
    "print('Puntuación f4:\\n Test:', scores['test_f4'].mean(), '+-', scores['test_f4'].std())"
   ]
  }
 ],
 "metadata": {
  "kernelspec": {
   "display_name": "Python 3",
   "language": "python",
   "name": "python3"
  },
  "language_info": {
   "codemirror_mode": {
    "name": "ipython",
    "version": 3
   },
   "file_extension": ".py",
   "mimetype": "text/x-python",
   "name": "python",
   "nbconvert_exporter": "python",
   "pygments_lexer": "ipython3",
   "version": "3.6.9"
  }
 },
 "nbformat": 4,
 "nbformat_minor": 4
}
