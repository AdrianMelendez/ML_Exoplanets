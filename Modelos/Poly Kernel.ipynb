{
 "cells": [
  {
   "cell_type": "code",
   "execution_count": 1,
   "metadata": {},
   "outputs": [],
   "source": [
    "import pandas as pd\n",
    "from sklearn.model_selection import StratifiedKFold, KFold\n",
    "import numpy as np\n",
    "from sklearn.model_selection import cross_validate\n",
    "from sklearn.pipeline import make_pipeline\n",
    "from sklearn.preprocessing import StandardScaler\n",
    "from sklearn.model_selection import GridSearchCV\n",
    "import imblearn\n",
    "from imblearn.pipeline import Pipeline\n",
    "from imblearn.over_sampling import SMOTE\n",
    "from sklearn.metrics import f1_score, precision_score, recall_score, confusion_matrix, fbeta_score, plot_confusion_matrix, roc_auc_score\n",
    "import matplotlib.pyplot as plt\n",
    "import seaborn as sns\n",
    "from imblearn.under_sampling import RandomUnderSampler\n",
    "from sklearn.metrics import make_scorer\n",
    "from sklearn.svm import SVC\n",
    "from sklearn import metrics"
   ]
  },
  {
   "cell_type": "code",
   "execution_count": 2,
   "metadata": {},
   "outputs": [],
   "source": [
    "trainingData = pd.read_csv('Data/TRAIN_ExtractedFeatures&LABEL.csv')\n",
    "X = trainingData.loc[:, trainingData.columns != 'LABEL']\n",
    "y = trainingData['LABEL']"
   ]
  },
  {
   "cell_type": "code",
   "execution_count": 4,
   "metadata": {},
   "outputs": [
    {
     "name": "stdout",
     "output_type": "stream",
     "text": [
      "Recall:\n",
      " Test: 0.5642857142857143 +- 0.17371980724307584\n",
      "Precision:\n",
      "Test: 0.3247826086956521 +- 0.11430400879768468\n",
      "Puntuación f4:\n",
      " Test: 0.5362854846138154 +- 0.16499860341543637\n"
     ]
    }
   ],
   "source": [
    "#CALCULO DE MEDIA DE LAS METRICAS SOBRE TODAS LAS PARTICIONES CROSS VALIDATION\n",
    "\n",
    "cv = StratifiedKFold(n_splits=5,shuffle=True, random_state=10)\n",
    "scoring = {\"recall\": \"recall\",\"precision\":\"precision\", \"f4\": make_scorer(fbeta_score,beta=4)}\n",
    "\n",
    "#NORMAL TRAINING\n",
    "pipeline = make_pipeline(StandardScaler(), SVC(C=1, kernel='poly',class_weight='balanced')) \n",
    "#class_weight='balanced' porque si no el desequilbirio impide calcular correctamente las métricas\n",
    "\n",
    "scores = cross_validate(pipeline, X, y, cv=cv, scoring=scoring)\n",
    "print('Recall:\\n Test:', scores['test_recall'].mean() , '+-', scores['test_recall'].std())\n",
    "print('Precision:\\nTest:', scores['test_precision'].mean(), '+-', scores['test_precision'].std())\n",
    "print('Puntuación f4:\\n Test:', scores['test_f4'].mean(), '+-', scores['test_f4'].std())"
   ]
  },
  {
   "cell_type": "code",
   "execution_count": 5,
   "metadata": {},
   "outputs": [
    {
     "name": "stdout",
     "output_type": "stream",
     "text": [
      "Recall:\n",
      " Test: 0.7785714285714286 +- 0.11984258382544656\n",
      "Precision:\n",
      "Test: 0.02541344199362139 +- 0.00927856811097904\n",
      "Puntuación f4:\n",
      " Test: 0.27964543828111843 +- 0.07676953185486558\n"
     ]
    }
   ],
   "source": [
    "#TRAINING WITH SMOTE\n",
    "model = make_pipeline(StandardScaler(), SVC(C=1, kernel='poly'))\n",
    "over = SMOTE(sampling_strategy=1,random_state=10)\n",
    "steps = [('over', over), ('model', model)]\n",
    "pipeline = Pipeline(steps=steps)\n",
    "\n",
    "scores = cross_validate(pipeline, X, y, cv=cv, scoring=scoring)\n",
    "print('Recall:\\n Test:', scores['test_recall'].mean() , '+-', scores['test_recall'].std())\n",
    "print('Precision:\\nTest:', scores['test_precision'].mean(), '+-', scores['test_precision'].std())\n",
    "print('Puntuación f4:\\n Test:', scores['test_f4'].mean(), '+-', scores['test_f4'].std())"
   ]
  },
  {
   "cell_type": "code",
   "execution_count": 7,
   "metadata": {},
   "outputs": [
    {
     "name": "stdout",
     "output_type": "stream",
     "text": [
      "Recall:\n",
      " Test: 0.7785714285714286 +- 0.11984258382544656\n",
      "Precision:\n",
      "Test: 0.020899698299496554 +- 0.0051029155272628406\n",
      "Puntuación f4:\n",
      " Test: 0.2475020579238736 +- 0.05170415207090986\n"
     ]
    }
   ],
   "source": [
    "#TRAINING WITH UNDERSAMPLING + SMOTE USANDO EL VALOR ANTERIOR\n",
    "model = make_pipeline(StandardScaler(), SVC(C=1, kernel='poly'))\n",
    "over = SMOTE(sampling_strategy=1,random_state=10)\n",
    "under = RandomUnderSampler(sampling_strategy=0.01,random_state=10)\n",
    "steps = [('under', under), ('over', over), ('model', model)]\n",
    "pipeline = Pipeline(steps=steps)\n",
    "\n",
    "scores = cross_validate(pipeline, X, y, cv=cv, scoring=scoring)\n",
    "print('Recall:\\n Test:', scores['test_recall'].mean() , '+-', scores['test_recall'].std())\n",
    "print('Precision:\\nTest:', scores['test_precision'].mean(), '+-', scores['test_precision'].std())\n",
    "print('Puntuación f4:\\n Test:', scores['test_f4'].mean(), '+-', scores['test_f4'].std())"
   ]
  },
  {
   "cell_type": "code",
   "execution_count": 11,
   "metadata": {},
   "outputs": [
    {
     "data": {
      "text/html": [
       "<div>\n",
       "<style scoped>\n",
       "    .dataframe tbody tr th:only-of-type {\n",
       "        vertical-align: middle;\n",
       "    }\n",
       "\n",
       "    .dataframe tbody tr th {\n",
       "        vertical-align: top;\n",
       "    }\n",
       "\n",
       "    .dataframe thead th {\n",
       "        text-align: right;\n",
       "    }\n",
       "</style>\n",
       "<table border=\"1\" class=\"dataframe\">\n",
       "  <thead>\n",
       "    <tr style=\"text-align: right;\">\n",
       "      <th></th>\n",
       "      <th>mean_test_recall</th>\n",
       "      <th>std_test_recall</th>\n",
       "      <th>mean_test_precision</th>\n",
       "      <th>std_test_precision</th>\n",
       "      <th>mean_test_f4</th>\n",
       "      <th>std_test_f4</th>\n",
       "      <th>params</th>\n",
       "    </tr>\n",
       "  </thead>\n",
       "  <tbody>\n",
       "    <tr>\n",
       "      <th>0</th>\n",
       "      <td>0.65</td>\n",
       "      <td>0.09689</td>\n",
       "      <td>0.321041</td>\n",
       "      <td>0.111780</td>\n",
       "      <td>0.602987</td>\n",
       "      <td>0.088869</td>\n",
       "      <td>{'model__svc__C': 80.0}</td>\n",
       "    </tr>\n",
       "    <tr>\n",
       "      <th>1</th>\n",
       "      <td>0.65</td>\n",
       "      <td>0.09689</td>\n",
       "      <td>0.330714</td>\n",
       "      <td>0.123007</td>\n",
       "      <td>0.604021</td>\n",
       "      <td>0.089177</td>\n",
       "      <td>{'model__svc__C': 92.5}</td>\n",
       "    </tr>\n",
       "    <tr>\n",
       "      <th>2</th>\n",
       "      <td>0.65</td>\n",
       "      <td>0.09689</td>\n",
       "      <td>0.322860</td>\n",
       "      <td>0.120200</td>\n",
       "      <td>0.603410</td>\n",
       "      <td>0.090897</td>\n",
       "      <td>{'model__svc__C': 105.0}</td>\n",
       "    </tr>\n",
       "    <tr>\n",
       "      <th>3</th>\n",
       "      <td>0.65</td>\n",
       "      <td>0.09689</td>\n",
       "      <td>0.323636</td>\n",
       "      <td>0.105015</td>\n",
       "      <td>0.605828</td>\n",
       "      <td>0.090385</td>\n",
       "      <td>{'model__svc__C': 117.5}</td>\n",
       "    </tr>\n",
       "    <tr>\n",
       "      <th>4</th>\n",
       "      <td>0.65</td>\n",
       "      <td>0.09689</td>\n",
       "      <td>0.325498</td>\n",
       "      <td>0.094465</td>\n",
       "      <td>0.608553</td>\n",
       "      <td>0.090129</td>\n",
       "      <td>{'model__svc__C': 130.0}</td>\n",
       "    </tr>\n",
       "  </tbody>\n",
       "</table>\n",
       "</div>"
      ],
      "text/plain": [
       "   mean_test_recall  std_test_recall  mean_test_precision  std_test_precision  \\\n",
       "0              0.65          0.09689             0.321041            0.111780   \n",
       "1              0.65          0.09689             0.330714            0.123007   \n",
       "2              0.65          0.09689             0.322860            0.120200   \n",
       "3              0.65          0.09689             0.323636            0.105015   \n",
       "4              0.65          0.09689             0.325498            0.094465   \n",
       "\n",
       "   mean_test_f4  std_test_f4                    params  \n",
       "0      0.602987     0.088869   {'model__svc__C': 80.0}  \n",
       "1      0.604021     0.089177   {'model__svc__C': 92.5}  \n",
       "2      0.603410     0.090897  {'model__svc__C': 105.0}  \n",
       "3      0.605828     0.090385  {'model__svc__C': 117.5}  \n",
       "4      0.608553     0.090129  {'model__svc__C': 130.0}  "
      ]
     },
     "execution_count": 11,
     "metadata": {},
     "output_type": "execute_result"
    }
   ],
   "source": [
    "#USE CROSS VALIDATION TO FIND BEST C\n",
    "model = make_pipeline(StandardScaler(), SVC(C=1, kernel='poly'))\n",
    "over = SMOTE(sampling_strategy=1,random_state=10)\n",
    "steps = [('over', over), ('model', model)]\n",
    "pipeline = Pipeline(steps=steps)\n",
    "cv = StratifiedKFold(n_splits=5,shuffle=True, random_state=10)\n",
    "scoring = {\"recall\": \"recall\",\"precision\":\"precision\", \"f4\": make_scorer(fbeta_score,beta=4)}\n",
    "grid = GridSearchCV(pipeline, param_grid={'model__svc__C':np.linspace(80,130,5)}, \n",
    "                    cv = cv, scoring=scoring,return_train_score=True,refit='f4')\n",
    "\n",
    "fitted = grid.fit(X,y)\n",
    "\n",
    "pd.DataFrame(grid.cv_results_)[['mean_test_recall', 'std_test_recall', 'mean_test_precision', 'std_test_precision',\n",
    "                                'mean_test_f4', 'std_test_f4','params']]"
   ]
  },
  {
   "cell_type": "code",
   "execution_count": 15,
   "metadata": {},
   "outputs": [
    {
     "data": {
      "text/html": [
       "<div>\n",
       "<style scoped>\n",
       "    .dataframe tbody tr th:only-of-type {\n",
       "        vertical-align: middle;\n",
       "    }\n",
       "\n",
       "    .dataframe tbody tr th {\n",
       "        vertical-align: top;\n",
       "    }\n",
       "\n",
       "    .dataframe thead th {\n",
       "        text-align: right;\n",
       "    }\n",
       "</style>\n",
       "<table border=\"1\" class=\"dataframe\">\n",
       "  <thead>\n",
       "    <tr style=\"text-align: right;\">\n",
       "      <th></th>\n",
       "      <th>mean_test_recall</th>\n",
       "      <th>std_test_recall</th>\n",
       "      <th>mean_test_precision</th>\n",
       "      <th>std_test_precision</th>\n",
       "      <th>mean_test_f4</th>\n",
       "      <th>std_test_f4</th>\n",
       "      <th>params</th>\n",
       "    </tr>\n",
       "  </thead>\n",
       "  <tbody>\n",
       "    <tr>\n",
       "      <th>0</th>\n",
       "      <td>0.617857</td>\n",
       "      <td>0.113838</td>\n",
       "      <td>0.492650</td>\n",
       "      <td>0.099798</td>\n",
       "      <td>0.606751</td>\n",
       "      <td>0.110614</td>\n",
       "      <td>{'svc__C': 4.0}</td>\n",
       "    </tr>\n",
       "    <tr>\n",
       "      <th>1</th>\n",
       "      <td>0.667857</td>\n",
       "      <td>0.153862</td>\n",
       "      <td>0.531668</td>\n",
       "      <td>0.138911</td>\n",
       "      <td>0.655035</td>\n",
       "      <td>0.149221</td>\n",
       "      <td>{'svc__C': 5.0}</td>\n",
       "    </tr>\n",
       "    <tr>\n",
       "      <th>2</th>\n",
       "      <td>0.667857</td>\n",
       "      <td>0.153862</td>\n",
       "      <td>0.530586</td>\n",
       "      <td>0.176331</td>\n",
       "      <td>0.654296</td>\n",
       "      <td>0.149195</td>\n",
       "      <td>{'svc__C': 6.0}</td>\n",
       "    </tr>\n",
       "    <tr>\n",
       "      <th>3</th>\n",
       "      <td>0.667857</td>\n",
       "      <td>0.153862</td>\n",
       "      <td>0.515476</td>\n",
       "      <td>0.188892</td>\n",
       "      <td>0.652719</td>\n",
       "      <td>0.150917</td>\n",
       "      <td>{'svc__C': 7.0}</td>\n",
       "    </tr>\n",
       "    <tr>\n",
       "      <th>4</th>\n",
       "      <td>0.667857</td>\n",
       "      <td>0.153862</td>\n",
       "      <td>0.540476</td>\n",
       "      <td>0.253948</td>\n",
       "      <td>0.653247</td>\n",
       "      <td>0.152552</td>\n",
       "      <td>{'svc__C': 8.0}</td>\n",
       "    </tr>\n",
       "  </tbody>\n",
       "</table>\n",
       "</div>"
      ],
      "text/plain": [
       "   mean_test_recall  std_test_recall  mean_test_precision  std_test_precision  \\\n",
       "0          0.617857         0.113838             0.492650            0.099798   \n",
       "1          0.667857         0.153862             0.531668            0.138911   \n",
       "2          0.667857         0.153862             0.530586            0.176331   \n",
       "3          0.667857         0.153862             0.515476            0.188892   \n",
       "4          0.667857         0.153862             0.540476            0.253948   \n",
       "\n",
       "   mean_test_f4  std_test_f4           params  \n",
       "0      0.606751     0.110614  {'svc__C': 4.0}  \n",
       "1      0.655035     0.149221  {'svc__C': 5.0}  \n",
       "2      0.654296     0.149195  {'svc__C': 6.0}  \n",
       "3      0.652719     0.150917  {'svc__C': 7.0}  \n",
       "4      0.653247     0.152552  {'svc__C': 8.0}  "
      ]
     },
     "execution_count": 15,
     "metadata": {},
     "output_type": "execute_result"
    }
   ],
   "source": [
    "#USE CROSS VALIDATION TO FIND BEST C\n",
    "pipeline = make_pipeline(StandardScaler(), SVC(C=1, kernel='poly',class_weight='balanced')) \n",
    "cv = StratifiedKFold(n_splits=5,shuffle=True, random_state=10)\n",
    "scoring = {\"recall\": \"recall\",\"precision\":\"precision\", \"f4\": make_scorer(fbeta_score,beta=4)}\n",
    "grid = GridSearchCV(pipeline, param_grid={'svc__C':np.linspace(4,8,5)}, \n",
    "                    cv = cv, scoring=scoring,return_train_score=True,refit='f4')\n",
    "\n",
    "fitted = grid.fit(X,y)\n",
    "\n",
    "pd.DataFrame(grid.cv_results_)[['mean_test_recall', 'std_test_recall', 'mean_test_precision', 'std_test_precision',\n",
    "                                'mean_test_f4', 'std_test_f4','params']]"
   ]
  },
  {
   "cell_type": "code",
   "execution_count": 21,
   "metadata": {},
   "outputs": [
    {
     "data": {
      "image/png": "[encoded data removed]",
      "text/plain": [
       "<Figure size 360x360 with 1 Axes>"
      ]
     },
     "metadata": {},
     "output_type": "display_data"
    }
   ],
   "source": [
    "#CONFUSION MATRIX IN TRAINING (en una iteración de la validacion cruzada)\n",
    "\n",
    "model = make_pipeline(StandardScaler(), SVC(C=5, kernel='poly',class_weight='balanced')) \n",
    "over = SMOTE(sampling_strategy=1,random_state=10)\n",
    "steps = [('over', over), ('model', model)]\n",
    "clf = Pipeline(steps=steps)\n",
    "cv = StratifiedKFold(n_splits=5,shuffle=True, random_state=10)\n",
    "\n",
    "for train_index, test_index in cv.split(X, y):\n",
    "    X_train, y_train = X.iloc[train_index], y.iloc[train_index]\n",
    "    clf.fit(X_train,y_train)\n",
    "    y_test = y.iloc[test_index].array\n",
    "    y_pred = clf.predict(X.iloc[test_index])\n",
    "    break\n",
    "    \n",
    "\n",
    "matrix = confusion_matrix(y_test, y_pred)\n",
    "\n",
    "group_names = ['True Neg','False Pos','False Neg','True Pos']\n",
    "\n",
    "group_counts = [\"{0:0.0f}\".format(value) for value in\n",
    "                matrix.flatten()]\n",
    "\n",
    "labels = [f\"{v1}\\n{v2}\" for v1, v2 in\n",
    "          zip(group_names,group_counts)]\n",
    "\n",
    "labels = np.asarray(labels).reshape(2,2)\n",
    "\n",
    "sns.set(rc={'figure.figsize':(5,5)})\n",
    "sns.set(font_scale = 2)\n",
    "ax = sns.heatmap(matrix, annot=labels, fmt='', cmap='turbo',cbar=False, annot_kws={\"size\": 20})\n",
    "\n",
    "ax.set_title('SVM Polinomial\\n')\n",
    "ax.set_xlabel('\\nValores predichos',fontsize=25)\n",
    "ax.set_ylabel('Valores reales\\n',fontsize=25)\n",
    "sns.set(font_scale=10)\n",
    "\n",
    "ax.figure.savefig('CM Training/CM_SVM_poly.png', dpi=1000, bbox_inches=\"tight\")"
   ]
  },
  {
   "cell_type": "code",
   "execution_count": 20,
   "metadata": {},
   "outputs": [
    {
     "name": "stdout",
     "output_type": "stream",
     "text": [
      "Recall:\n",
      " Test: 0.6678571428571429 +- 0.15386185163241442\n",
      "Precision:\n",
      "Test: 0.5316683316683316 +- 0.13891093624094944\n",
      "Puntuación f4:\n",
      " Test: 0.6550351281202642 +- 0.14922074988729092\n"
     ]
    }
   ],
   "source": [
    "clf = fitted.best_estimator_\n",
    "scores = cross_validate(clf, X, y, cv=cv, scoring=scoring)\n",
    "print('Recall:\\n Test:', scores['test_recall'].mean() , '+-', scores['test_recall'].std())\n",
    "print('Precision:\\nTest:', scores['test_precision'].mean(), '+-', scores['test_precision'].std())\n",
    "print('Puntuación f4:\\n Test:', scores['test_f4'].mean(), '+-', scores['test_f4'].std())"
   ]
  }
 ],
 "metadata": {
  "kernelspec": {
   "display_name": "Python 3",
   "language": "python",
   "name": "python3"
  },
  "language_info": {
   "codemirror_mode": {
    "name": "ipython",
    "version": 3
   },
   "file_extension": ".py",
   "mimetype": "text/x-python",
   "name": "python",
   "nbconvert_exporter": "python",
   "pygments_lexer": "ipython3",
   "version": "3.6.9"
  }
 },
 "nbformat": 4,
 "nbformat_minor": 4
}
