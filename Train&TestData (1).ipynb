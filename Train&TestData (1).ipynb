{
 "cells": [
  {
   "cell_type": "code",
   "execution_count": 32,
   "metadata": {},
   "outputs": [],
   "source": [
    "import pandas as pd\n",
    "from tsfresh.feature_extraction import extract_features"
   ]
  },
  {
   "cell_type": "code",
   "execution_count": 28,
   "metadata": {},
   "outputs": [],
   "source": [
    "import json\n",
    "with open('kind_to_fc_parameters.json') as json_file:\n",
    "    kind_to_fc_parameters = json.load(json_file)"
   ]
  },
  {
   "cell_type": "code",
   "execution_count": 51,
   "metadata": {},
   "outputs": [
    {
     "name": "stderr",
     "output_type": "stream",
     "text": [
      "Feature Extraction: 100%|██████████| 40/40 [04:54<00:00,  7.37s/it]\n"
     ]
    }
   ],
   "source": [
    "#OBTENCIÓN DEL TRAIN Y SUS CARACTERÍSTICAS\n",
    "train_data = pd.read_csv('exoTrain.csv')\n",
    "categ = {2: 1,1: 0}\n",
    "train_data.LABEL = [categ[item] for item in train_data.LABEL]\n",
    "time = [a for a in range(1,3198)]\n",
    "df = train_data[0:1].transpose().drop('LABEL')\n",
    "df['id'] = '0'\n",
    "df.rename({0: 'FLUX'}, axis=1,inplace=True)\n",
    "df['time'] = time\n",
    "a = [df]\n",
    "for i in range(1,len(train_data)):\n",
    "    df2 = train_data[i:i+1].transpose().drop('LABEL')\n",
    "    df2['id'] = str(i)\n",
    "    df2.rename({i: 'FLUX'}, axis=1,inplace=True)\n",
    "    df2['time'] = time\n",
    "    a.append(df2)\n",
    "df = pd.concat(a)\n",
    "\n",
    "train_extracted_features = extract_features(df, column_id='id', column_sort='time',\n",
    "                                      kind_to_fc_parameters=kind_to_fc_parameters)\n",
    "\n",
    "train_extracted_features.index = train_extracted_features.index.astype(int)\n",
    "train_extracted_features = train_extracted_features.sort_index()\n",
    "\n",
    "train_extracted_features['LABEL'] = train_data['LABEL']\n",
    "\n",
    "#train_extracted_features.to_csv('Data/TRAIN_ExtractedFeatures&LABEL.csv',index=False)\n"
   ]
  },
  {
   "cell_type": "code",
   "execution_count": 45,
   "metadata": {},
   "outputs": [],
   "source": [
    "#OBTENCIÓN DEL TEST Y SUS CARACTERÍSTICAS\n",
    "test_data = pd.read_csv('exoTest.csv')\n",
    "categ = {2: 1,1: 0}\n",
    "test_data.LABEL = [categ[item] for item in test_data.LABEL]\n",
    "time = [a for a in range(1,3198)]\n",
    "df = test_data[0:1].transpose().drop('LABEL')\n",
    "df['id'] = '0'\n",
    "df.rename({0: 'FLUX'}, axis=1,inplace=True)\n",
    "df['time'] = time\n",
    "a = [df]\n",
    "for i in range(1,len(test_data)):\n",
    "    df2 = test_data[i:i+1].transpose().drop('LABEL')\n",
    "    df2['id'] = str(i)\n",
    "    df2.rename({i: 'FLUX'}, axis=1,inplace=True)\n",
    "    df2['time'] = time\n",
    "    a.append(df2)\n",
    "df = pd.concat(a)\n",
    "\n",
    "test_extracted_features = extract_features(df, column_id='id', column_sort='time',\n",
    "                                      kind_to_fc_parameters=kind_to_fc_parameters)\n",
    "\n",
    "test_extracted_features.index = test_extracted_features.index.astype(int)\n",
    "test_extracted_features = test_extracted_features.sort_index()\n",
    "\n",
    "test_extracted_features['LABEL'] = test_data['LABEL']\n",
    "\n",
    "#test_extracted_features.to_csv('TEST_ExtractedFeatures&LABEL.csv',index=False)"
   ]
  }
 ],
 "metadata": {
  "kernelspec": {
   "display_name": "Python 3",
   "language": "python",
   "name": "python3"
  },
  "language_info": {
   "codemirror_mode": {
    "name": "ipython",
    "version": 3
   },
   "file_extension": ".py",
   "mimetype": "text/x-python",
   "name": "python",
   "nbconvert_exporter": "python",
   "pygments_lexer": "ipython3",
   "version": "3.6.9"
  }
 },
 "nbformat": 4,
 "nbformat_minor": 4
}
